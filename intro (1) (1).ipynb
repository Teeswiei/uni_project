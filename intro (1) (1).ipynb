{
 "cells": [
  {
   "cell_type": "markdown",
   "metadata": {
    "id": "s9IZrNGv1HKC",
    "pycharm": {
     "name": "#%% md\n"
    }
   },
   "source": [
    "# Привет уважаемый соискатель!\n",
    " Тебе предстоит пройти пару простых заданий по глубокому обучению. Это нормально не всегда понимать сразу как\n",
    " сделать ту или иную часть, ведь у тебя есть возможность разобраться во всём самому! А этот навык куда ценнее\n",
    " знаний.\n",
    " Отметим сразу, что весь код написанный нами, есть лишь один из возможных путей решения задачи и ты не обязан ему\n",
    " следовать. Возможно, ты решишь использовать другие, более удобные, решения. Но как и в случае использования\n",
    " наших подсказок, так и без них, мы рекомендуем понимать, что ты пишешь и зачем. Мы будем спрашивать на собесе!\n",
    " Но ты не пугайся) Лучше разберись что и как."
   ]
  },
  {
   "cell_type": "code",
   "execution_count": 55,
   "metadata": {
    "id": "zxRh00Ey1HKF",
    "pycharm": {
     "name": "#%%\n"
    }
   },
   "outputs": [],
   "source": [
    "import pandas as pd\n",
    "import numpy as np\n",
    "import matplotlib.pyplot as plt\n",
    "import torch\n",
    "from torch.utils.data import Dataset\n",
    "import torch.nn as nn\n",
    "from tqdm import tqdm\n",
    "from sklearn.model_selection import train_test_split\n",
    "from sklearn.linear_model import LinearRegression \n",
    "from torch.utils.data import DataLoader\n",
    "import os\n",
    "from torch.utils.data import IterableDataset\n",
    "from torchinfo import summary\n",
    "from tqdm.auto import tqdm\n",
    "\n",
    "\n",
    "from typing import List, Tuple, Dict"
   ]
  },
  {
   "cell_type": "markdown",
   "metadata": {
    "id": "8VrEuOBT1HKH",
    "pycharm": {
     "name": "#%% md\n"
    }
   },
   "source": [
    "# Задания и оценивание\n",
    "В тестировании присутствует 3 части:\n",
    "- Составление датаеста\n",
    "- Конструкция архитектуры нейросети\n",
    "- Обучение и аналитика\n",
    "\n",
    "Каждая из них представляет собой важный этап работы Ml-щика нашей команды, поэтому постарайся сделать их все.\n",
    "Все они приносят равное количество баллов. В каждой части есть задание со звёздочкой, его делать не обязательно -\n",
    " но если ты всё-таки его сделаешь, то это поможет нам оценить твои компетенции.\n",
    "\n",
    "\n",
    "Скажем пару слов о данных. Признаки представляют из себя из себя 11 непрерывных переменных, таргет - целочисленную оценку от 1 до 10. Подумай, что это за тип задачи."
   ]
  },
  {
   "cell_type": "markdown",
   "metadata": {
    "id": "lpCc6mI9uqYi"
   },
   "source": [
    "Раз таргет целое число, то задача - классфикиция с 10 лейблами."
   ]
  },
  {
   "cell_type": "code",
   "execution_count": 56,
   "metadata": {
    "id": "ZdF7piCk3zxW"
   },
   "outputs": [],
   "source": [
    "# будем придерживаться стандартов и писать device-agnostic код\n",
    "\n",
    "device = 'cuda' if torch.cuda.is_available() else 'cpu'"
   ]
  },
  {
   "cell_type": "code",
   "execution_count": 57,
   "metadata": {
    "id": "8XBD07rB1HKI",
    "pycharm": {
     "name": "#%%\n"
    }
   },
   "outputs": [],
   "source": [
    "def seed_everything(seed):\n",
    "    torch.manual_seed(seed)\n",
    "    torch.cuda.manual_seed(seed)\n",
    "\n",
    "seed_everything(42)"
   ]
  },
  {
   "cell_type": "markdown",
   "metadata": {
    "id": "blvm_0nv1HKI",
    "pycharm": {
     "name": "#%% md\n"
    }
   },
   "source": [
    "# Составление датаеста\n",
    "\n",
    "- Загрузи данные из файла our data. (тут тебе может помочь библиотека pandas)\n",
    "- Раздели их по переменным X и Y.\n",
    "- Сконструируй класс MyDataset. (про такого функионал класса можешь почитать [тут](https:pytorch.org/tutorials/beginner/basics/data_tutorial.html))\n",
    "\n",
    "- \"*\" Импортируй линейную регрессию из библиотеки sklearn и обучи её на тех же данных. Ура! теперь у нас есть безлайн!\n"
   ]
  },
  {
   "cell_type": "markdown",
   "metadata": {
    "id": "A3BZBQoG1HKI",
    "pycharm": {
     "name": "#%% md\n"
    }
   },
   "source": [
    "Загрузите данные и разделите на X, Y"
   ]
  },
  {
   "cell_type": "code",
   "execution_count": 58,
   "metadata": {
    "id": "x78gnjd81HKI",
    "pycharm": {
     "name": "#%%\n"
    }
   },
   "outputs": [],
   "source": [
    "data = pd.read_csv('my_data.csv', sep = ';', header = 1) # что-то связанное с csv файлом\n",
    "X = data.drop('target', axis = 1) # что-то связанное с data\n",
    "Y = data['target'] # что-то связанное с data"
   ]
  },
  {
   "cell_type": "code",
   "execution_count": 59,
   "metadata": {
    "id": "VczKPy237EdS"
   },
   "outputs": [],
   "source": [
    "X_train, X_test, y_train, y_test = train_test_split(X, Y, test_size=0.2, random_state=42)"
   ]
  },
  {
   "cell_type": "markdown",
   "metadata": {
    "id": "R1AsyjX-1HKJ",
    "pycharm": {
     "name": "#%% md\n"
    }
   },
   "source": [
    "Создайте класс DataSet - https://pytorch.org/tutorials/beginner/basics/data_tutorial.html"
   ]
  },
  {
   "cell_type": "code",
   "execution_count": 60,
   "metadata": {
    "id": "w3nAm-zh1HKJ",
    "pycharm": {
     "name": "#%%\n"
    }
   },
   "outputs": [],
   "source": [
    "class MyDataset(Dataset):\n",
    "    def __init__(self, x: pd.DataFrame, y: List[int]):\n",
    "        self.x = torch.from_numpy(x.to_numpy()).type(torch.float)\n",
    "        self.y = torch.from_numpy(np.array(y.values)).type(torch.long)\n",
    "\n",
    "    def __len__(self) -> int:\n",
    "        return len(self.x)\n",
    "\n",
    "    def __getitem__(self, idx: int) -> Tuple[torch.Tensor, int]:\n",
    "        \"\"\"\n",
    "        Returns a sample from the dataset at the given index idx.\n",
    "        :param idx: Index of the sample to return.\n",
    "        :return: Sample\n",
    "        \"\"\"\n",
    "        if 0 <= idx < len(self.x):\n",
    "            return self.x[idx], self.y[idx]\n",
    "        else:\n",
    "            raise IndexError(\"Wrong index!\")\n"
   ]
  },
  {
   "cell_type": "code",
   "execution_count": 61,
   "metadata": {
    "id": "37kVVH63I_yo"
   },
   "outputs": [],
   "source": [
    "train_dataset = MyDataset(X_train, y_train)\n",
    "test_dataset = MyDataset(X_test, y_test)"
   ]
  },
  {
   "cell_type": "code",
   "execution_count": null,
   "metadata": {},
   "outputs": [],
   "source": []
  },
  {
   "cell_type": "code",
   "execution_count": 62,
   "metadata": {},
   "outputs": [
    {
     "name": "stdout",
     "output_type": "stream",
     "text": [
      "R-squared score: 0.40318034127962277\n"
     ]
    }
   ],
   "source": [
    "#  модель линейной регрессии\n",
    "model = LinearRegression()\n",
    "model.fit(X_train, y_train)\n",
    "\n",
    "# Оценка\n",
    "score = model.score(X_test, y_test)\n",
    "print(f'R-squared score: {score}')"
   ]
  },
  {
   "cell_type": "markdown",
   "metadata": {
    "id": "N8k7Fcq-1HKJ",
    "pycharm": {
     "name": "#%% md\n"
    }
   },
   "source": [
    "# Сконструируйте класс нейронной сети\n",
    "В этом задании тебе предстоит сконструировать полносвязную двухслойную нейронную сеть.\n",
    "\n",
    "- Вспомните какие сущности необходимы для обучения нейронной сети и включите их в атрибуты класса.\n",
    "- Основываясь на типе данной задачи выберете подходящую лосс функцию.\n",
    "- На основе требований первых двух пунктов заполните методы forward и training_step\n",
    "- \"*\" Настрой обучение батчами (это не обязательно делать в противном случае)\n",
    "\n",
    "Напоминаем, что не обязательно пользоваться предлагаемым шаблоном! Если вы знаете более быстрые и простые пути,\n",
    "то будет интересно на них посмотреть."
   ]
  },
  {
   "cell_type": "code",
   "execution_count": 63,
   "metadata": {
    "id": "xedTpSAv1HKK",
    "pycharm": {
     "name": "#%%\n"
    }
   },
   "outputs": [],
   "source": [
    "class MyNet(nn.Module):\n",
    "    def __init__(self,\n",
    "                 input_features: int,\n",
    "                 output_features: int,\n",
    "                 hidden_units: int = 22\n",
    "                 ): #тут должны дополнительно передаваться какие-то параметры\n",
    "        super().__init__()\n",
    "\n",
    "        # тут должно быть что-то про устройство сети\n",
    "        self.layers = nn.Sequential(nn.Linear(input_features, hidden_units),\n",
    "                                    nn.ReLU(),\n",
    "                                    nn.Linear(hidden_units, output_features),\n",
    "                                    nn.ReLU(),\n",
    "                                    )\n",
    "\n",
    "    def forward(self, x: torch.Tensor):\n",
    "        \"\"\"\n",
    "        Прямой проход по всем слоям сети для получения предсказания.\n",
    "        :param x:\n",
    "        Входящие данные.\n",
    "        :return:\n",
    "        Предсказанные значения для входящих данных.\n",
    "        \"\"\"\n",
    "\n",
    "        return self.layers(x)"
   ]
  },
  {
   "cell_type": "code",
   "execution_count": 64,
   "metadata": {
    "id": "8Y4s1zXK8i81"
   },
   "outputs": [],
   "source": [
    "!pip -q install torchmetrics"
   ]
  },
  {
   "cell_type": "code",
   "execution_count": 65,
   "metadata": {
    "id": "a_8R2YiO8YC6"
   },
   "outputs": [],
   "source": [
    "from torchmetrics import Accuracy\n",
    "\n",
    "\n",
    "accuracy_fn = Accuracy(task=\"multiclass\", num_classes=10).to(device)"
   ]
  },
  {
   "cell_type": "code",
   "execution_count": 66,
   "metadata": {
    "id": "YZqT12rF9Vdq"
   },
   "outputs": [],
   "source": [
    "def train_step(model: torch.nn.Module,\n",
    "               dataloader: torch.utils.data.DataLoader,\n",
    "               loss_fn: torch.nn.Module,\n",
    "               optimizer: torch.optim.Optimizer):\n",
    "    model.train()\n",
    "\n",
    "    train_loss, train_acc = 0, 0\n",
    "\n",
    "    for batch, (X, y) in enumerate(dataloader):\n",
    "        X, y = X.to(device), y.to(device)\n",
    "\n",
    "        y_pred = model(X)\n",
    "\n",
    "        loss = loss_fn(y_pred, y)\n",
    "        train_loss += loss.item()\n",
    "\n",
    "        optimizer.zero_grad()\n",
    "\n",
    "        loss.backward()\n",
    "\n",
    "        optimizer.step()\n",
    "\n",
    "        y_pred_class = torch.argmax(torch.softmax(y_pred, dim=1), dim=1)\n",
    "        train_acc += (y_pred_class == y).sum().item()/len(y_pred)\n",
    "\n",
    "    train_loss = train_loss / len(dataloader)\n",
    "    train_acc = train_acc / len(dataloader)\n",
    "    return train_loss, train_acc"
   ]
  },
  {
   "cell_type": "code",
   "execution_count": 67,
   "metadata": {
    "id": "mgBJ0UAQ9daC"
   },
   "outputs": [],
   "source": [
    "def test_step(model: torch.nn.Module,\n",
    "              dataloader: torch.utils.data.DataLoader,\n",
    "              loss_fn: torch.nn.Module):\n",
    "    model.eval()\n",
    "\n",
    "    test_loss, test_acc = 0, 0\n",
    "\n",
    "    with torch.inference_mode():\n",
    "        for batch, (X, y) in enumerate(dataloader):\n",
    "            X, y = X.to(device), y.to(device)\n",
    "\n",
    "            test_pred_logits = model(X)\n",
    "\n",
    "            loss = loss_fn(test_pred_logits, y)\n",
    "            test_loss += loss.item()\n",
    "\n",
    "            test_pred_labels = test_pred_logits.argmax(dim=1)\n",
    "            test_acc += ((test_pred_labels == y).sum().item()/len(test_pred_labels))\n",
    "\n",
    "    test_loss = test_loss / len(dataloader)\n",
    "    test_acc = test_acc / len(dataloader)\n",
    "    return test_loss, test_acc"
   ]
  },
  {
   "cell_type": "markdown",
   "metadata": {
    "id": "HSs1mNNh1HKK",
    "pycharm": {
     "name": "#%% md\n"
    }
   },
   "source": [
    "# Обучение и аналитика\n",
    "В этом задании тебе предстоит обучить сконструированную архитектуру.\n",
    "\n",
    "- Создай объект класса MyDataset и MyNet, а также других атрибутов, если ваше решение их предусматривает.\n",
    "- Напишите цикл обучения нейронной сети.\n",
    "- Обучите нейронную сеть и оцените финальной качество на валидационном датасете.\n",
    "- \"*\" Каждый N-ый шаг изображайте на графике, как менялось значение лосс функции на тестовых данных и\n",
    "на части валидационных данных."
   ]
  },
  {
   "cell_type": "code",
   "execution_count": 68,
   "metadata": {
    "id": "anZpeS1-1HKK",
    "pycharm": {
     "name": "#%%\n"
    }
   },
   "outputs": [],
   "source": [
    "train_dataset = MyDataset(X_train, y_train)\n",
    "test_dataset = MyDataset(X_test, y_test)\n",
    "model = MyNet(11, 10).to(device)\n",
    "\n",
    "BATCH_SIZE = 16\n",
    "NUM_EPOCHS = 1500"
   ]
  },
  {
   "cell_type": "code",
   "execution_count": 69,
   "metadata": {
    "colab": {
     "base_uri": "https://localhost:8080/"
    },
    "id": "t7eQM0iv3trl",
    "outputId": "025a899b-137c-43fe-d90d-d7b7bc9f37df"
   },
   "outputs": [
    {
     "name": "stdout",
     "output_type": "stream",
     "text": [
      "MyNet(\n",
      "  (layers): Sequential(\n",
      "    (0): Linear(in_features=11, out_features=22, bias=True)\n",
      "    (1): ReLU()\n",
      "    (2): Linear(in_features=22, out_features=10, bias=True)\n",
      "    (3): ReLU()\n",
      "  )\n",
      ")\n"
     ]
    }
   ],
   "source": [
    "print(model)"
   ]
  },
  {
   "cell_type": "code",
   "execution_count": 70,
   "metadata": {
    "id": "Wl5MK8Cj32hI"
   },
   "outputs": [],
   "source": [
    "try:\n",
    "    import torchinfo\n",
    "except:\n",
    "    !pip install torchinfo\n",
    "    import torchinfo"
   ]
  },
  {
   "cell_type": "code",
   "execution_count": 71,
   "metadata": {
    "colab": {
     "base_uri": "https://localhost:8080/"
    },
    "id": "_HZT7_C235Ln",
    "outputId": "46875d49-c690-4eb7-b373-1aadaaf6d3f7"
   },
   "outputs": [
    {
     "data": {
      "text/plain": [
       "==========================================================================================\n",
       "Layer (type:depth-idx)                   Output Shape              Param #\n",
       "==========================================================================================\n",
       "MyNet                                    [16, 10]                  --\n",
       "├─Sequential: 1-1                        [16, 10]                  --\n",
       "│    └─Linear: 2-1                       [16, 22]                  264\n",
       "│    └─ReLU: 2-2                         [16, 22]                  --\n",
       "│    └─Linear: 2-3                       [16, 10]                  230\n",
       "│    └─ReLU: 2-4                         [16, 10]                  --\n",
       "==========================================================================================\n",
       "Total params: 494\n",
       "Trainable params: 494\n",
       "Non-trainable params: 0\n",
       "Total mult-adds (M): 0.01\n",
       "==========================================================================================\n",
       "Input size (MB): 0.00\n",
       "Forward/backward pass size (MB): 0.00\n",
       "Params size (MB): 0.00\n",
       "Estimated Total Size (MB): 0.01\n",
       "=========================================================================================="
      ]
     },
     "execution_count": 71,
     "metadata": {},
     "output_type": "execute_result"
    }
   ],
   "source": [
    "summary(model, input_size=[BATCH_SIZE, 11])"
   ]
  },
  {
   "cell_type": "code",
   "execution_count": 72,
   "metadata": {
    "id": "qdUWHrQy5wUe"
   },
   "outputs": [],
   "source": [
    "NUM_WORKERS = os.cpu_count()\n",
    "\n",
    "train_dataloader = DataLoader(train_dataset,\n",
    "                                     batch_size=BATCH_SIZE,\n",
    "                                     shuffle=True,\n",
    "                                     num_workers=0)\n",
    "\n",
    "test_dataloader = DataLoader(test_dataset,\n",
    "                                    batch_size=BATCH_SIZE,\n",
    "                                    shuffle=False,\n",
    "                                    num_workers=0)"
   ]
  },
  {
   "cell_type": "code",
   "execution_count": 73,
   "metadata": {
    "id": "M9fcN3zw9trI"
   },
   "outputs": [],
   "source": [
    "def train(model: torch.nn.Module,\n",
    "          train_dataloader: torch.utils.data.DataLoader,\n",
    "          test_dataloader: torch.utils.data.DataLoader,\n",
    "          optimizer: torch.optim.Optimizer,\n",
    "          loss_fn: torch.nn.Module = nn.CrossEntropyLoss(),\n",
    "          epochs: int = 5):\n",
    "\n",
    "    results = {\"train_loss\": [],\n",
    "        \"train_acc\": [],\n",
    "        \"test_loss\": [],\n",
    "        \"test_acc\": []\n",
    "    }\n",
    "\n",
    "    for epoch in tqdm(range(epochs)):\n",
    "        train_loss, train_acc = train_step(model=model,\n",
    "                                           dataloader=train_dataloader,\n",
    "                                           loss_fn=loss_fn,\n",
    "                                           optimizer=optimizer)\n",
    "        test_loss, test_acc = test_step(model=model,\n",
    "            dataloader=test_dataloader,\n",
    "            loss_fn=loss_fn)\n",
    "\n",
    "        if epoch % 100 == 0:\n",
    "            print(\n",
    "                f\"Epoch: {epoch+1} | \"\n",
    "                f\"train_loss: {train_loss:.4f} | \"\n",
    "                f\"train_acc: {train_acc:.4f} | \"\n",
    "                f\"test_loss: {test_loss:.4f} | \"\n",
    "                f\"test_acc: {test_acc:.4f}\"\n",
    "            )\n",
    "\n",
    "        results[\"train_loss\"].append(train_loss)\n",
    "        results[\"train_acc\"].append(train_acc)\n",
    "        results[\"test_loss\"].append(test_loss)\n",
    "        results[\"test_acc\"].append(test_acc)\n",
    "\n",
    "    return results"
   ]
  },
  {
   "cell_type": "code",
   "execution_count": 74,
   "metadata": {
    "colab": {
     "base_uri": "https://localhost:8080/",
     "height": 327,
     "referenced_widgets": [
      "d5f72f180e2547de947635611b7e9aee",
      "996850654b3b41359bfa5129d5e73167",
      "8fae691c525f434fbab1c3a8d5303c02",
      "d7e48c6e5659486a87923811e4c30e42",
      "b7f674a1e04946ae9abe2d4999b1041c",
      "2e51c1668b59493e93d0e562d4f95fa1",
      "b273cd9f747144f8b6c69463a0c55427",
      "66315c0cd8024585b1d8b0ce7eacad68",
      "776ae54b137d482e80a9ac794a3d3d24",
      "af0649d4315843d899d40151cc34dd2a",
      "3acc1d17d3ba49dba0010f8dda01c04f"
     ]
    },
    "id": "S7udXWHM9xlA",
    "outputId": "d873666f-99db-4cf0-b275-2045247071ee"
   },
   "outputs": [
    {
     "data": {
      "application/vnd.jupyter.widget-view+json": {
       "model_id": "c04efc80c37645beba82a36142494520",
       "version_major": 2,
       "version_minor": 0
      },
      "text/plain": [
       "  0%|          | 0/1500 [00:00<?, ?it/s]"
      ]
     },
     "metadata": {},
     "output_type": "display_data"
    },
    {
     "name": "stdout",
     "output_type": "stream",
     "text": [
      "Epoch: 1 | train_loss: 1.6620 | train_acc: 0.4707 | test_loss: 1.3856 | test_acc: 0.4781\n",
      "Epoch: 101 | train_loss: 1.0292 | train_acc: 0.5912 | test_loss: 1.0654 | test_acc: 0.5656\n",
      "Epoch: 201 | train_loss: 1.0087 | train_acc: 0.6067 | test_loss: 1.0429 | test_acc: 0.5719\n",
      "Epoch: 301 | train_loss: 0.9841 | train_acc: 0.6285 | test_loss: 1.0393 | test_acc: 0.6031\n",
      "Epoch: 401 | train_loss: 0.9862 | train_acc: 0.6270 | test_loss: 1.0661 | test_acc: 0.5969\n",
      "Epoch: 501 | train_loss: 0.9675 | train_acc: 0.6184 | test_loss: 1.0884 | test_acc: 0.5906\n",
      "Epoch: 601 | train_loss: 0.9591 | train_acc: 0.6426 | test_loss: 1.0830 | test_acc: 0.5875\n",
      "Epoch: 701 | train_loss: 0.9573 | train_acc: 0.6341 | test_loss: 1.0605 | test_acc: 0.6062\n",
      "Epoch: 801 | train_loss: 0.9535 | train_acc: 0.6366 | test_loss: 1.0735 | test_acc: 0.5938\n",
      "Epoch: 901 | train_loss: 0.9504 | train_acc: 0.6333 | test_loss: 1.0975 | test_acc: 0.5750\n",
      "Epoch: 1001 | train_loss: 0.9455 | train_acc: 0.6403 | test_loss: 1.0830 | test_acc: 0.6062\n",
      "Epoch: 1101 | train_loss: 0.9408 | train_acc: 0.6452 | test_loss: 1.0858 | test_acc: 0.6156\n",
      "Epoch: 1201 | train_loss: 0.9421 | train_acc: 0.6529 | test_loss: 1.0838 | test_acc: 0.6062\n",
      "Epoch: 1301 | train_loss: 0.9393 | train_acc: 0.6341 | test_loss: 1.0829 | test_acc: 0.6062\n",
      "Epoch: 1401 | train_loss: 0.9379 | train_acc: 0.6333 | test_loss: 1.1033 | test_acc: 0.5875\n",
      "Total training time: 170.372 seconds\n"
     ]
    }
   ],
   "source": [
    "loss_fn = nn.CrossEntropyLoss()\n",
    "optimizer = torch.optim.Adam(params=model.parameters(), lr=0.001)\n",
    "\n",
    "from timeit import default_timer as timer\n",
    "start_time = timer()\n",
    "\n",
    "model_results = train(model=model,\n",
    "                        train_dataloader=train_dataloader,\n",
    "                        test_dataloader=test_dataloader,\n",
    "                        optimizer=optimizer,\n",
    "                        loss_fn=loss_fn,\n",
    "                        epochs=NUM_EPOCHS)\n",
    "\n",
    "# End the timer and print out how long it took\n",
    "end_time = timer()\n",
    "print(f\"Total training time: {end_time-start_time:.3f} seconds\")"
   ]
  },
  {
   "cell_type": "code",
   "execution_count": 75,
   "metadata": {
    "id": "OH6fRa2-mOou"
   },
   "outputs": [],
   "source": [
    "def plot_loss_curves(results: Dict[str, List[float]]):\n",
    "    \"\"\"Plots training curves of a results dictionary.\n",
    "\n",
    "    Args:\n",
    "        results (dict): dictionary containing list of values, e.g.\n",
    "            {\"train_loss\": [...],\n",
    "             \"train_acc\": [...],\n",
    "             \"test_loss\": [...],\n",
    "             \"test_acc\": [...]}\n",
    "    \"\"\"\n",
    "\n",
    "    loss = results['train_loss']\n",
    "    test_loss = results['test_loss']\n",
    "\n",
    "    accuracy = results['train_acc']\n",
    "    test_accuracy = results['test_acc']\n",
    "\n",
    "    epochs = range(len(results['train_loss']))\n",
    "\n",
    "    plt.figure(figsize=(15, 7))\n",
    "\n",
    "    plt.subplot(1, 2, 1)\n",
    "    plt.plot(epochs, loss, label='train_loss')\n",
    "    plt.plot(epochs, test_loss, label='test_loss')\n",
    "    plt.title('Loss')\n",
    "    plt.xlabel('Epochs')\n",
    "    plt.legend()\n",
    "\n",
    "    plt.subplot(1, 2, 2)\n",
    "    plt.plot(epochs, accuracy, label='train_accuracy')\n",
    "    plt.plot(epochs, test_accuracy, label='test_accuracy')\n",
    "    plt.title('Accuracy')\n",
    "    plt.xlabel('Epochs')\n",
    "    plt.legend();"
   ]
  },
  {
   "cell_type": "code",
   "execution_count": 76,
   "metadata": {
    "colab": {
     "base_uri": "https://localhost:8080/",
     "height": 641
    },
    "id": "6UXV3ipdmOou",
    "outputId": "640db94f-6e65-423d-93b8-6ef64efe39cd"
   },
   "outputs": [
    {
     "data": {
      "image/png": "[encoded data removed]",
      "text/plain": [
       "<Figure size 1080x504 with 2 Axes>"
      ]
     },
     "metadata": {
      "needs_background": "light"
     },
     "output_type": "display_data"
    }
   ],
   "source": [
    "plot_loss_curves(model_results)"
   ]
  },
  {
   "cell_type": "code",
   "execution_count": null,
   "metadata": {
    "id": "2GvlqiEL9xeV"
   },
   "outputs": [],
   "source": []
  },
  {
   "cell_type": "code",
   "execution_count": null,
   "metadata": {
    "id": "gz_gNRkt9xc_"
   },
   "outputs": [],
   "source": []
  },
  {
   "cell_type": "code",
   "execution_count": null,
   "metadata": {
    "id": "6gXWLLbg9xXw"
   },
   "outputs": [],
   "source": []
  }
 ],
 "metadata": {
  "colab": {
   "provenance": []
  },
  "kernelspec": {
   "display_name": "Python 3",
   "language": "python",
   "name": "python3"
  },
  "language_info": {
   "codemirror_mode": {
    "name": "ipython",
    "version": 3
   },
   "file_extension": ".py",
   "mimetype": "text/x-python",
   "name": "python",
   "nbconvert_exporter": "python",
   "pygments_lexer": "ipython3",
   "version": "3.9.12"
  },
  "widgets": {
   "application/vnd.jupyter.widget-state+json": {
    "2e51c1668b59493e93d0e562d4f95fa1": {
     "model_module": "@jupyter-widgets/base",
     "model_module_version": "1.2.0",
     "model_name": "LayoutModel",
     "state": {
      "_model_module": "@jupyter-widgets/base",
      "_model_module_version": "1.2.0",
      "_model_name": "LayoutModel",
      "_view_count": null,
      "_view_module": "@jupyter-widgets/base",
      "_view_module_version": "1.2.0",
      "_view_name": "LayoutView",
      "align_content": null,
      "align_items": null,
      "align_self": null,
      "border": null,
      "bottom": null,
      "display": null,
      "flex": null,
      "flex_flow": null,
      "grid_area": null,
      "grid_auto_columns": null,
      "grid_auto_flow": null,
      "grid_auto_rows": null,
      "grid_column": null,
      "grid_gap": null,
      "grid_row": null,
      "grid_template_areas": null,
      "grid_template_columns": null,
      "grid_template_rows": null,
      "height": null,
      "justify_content": null,
      "justify_items": null,
      "left": null,
      "margin": null,
      "max_height": null,
      "max_width": null,
      "min_height": null,
      "min_width": null,
      "object_fit": null,
      "object_position": null,
      "order": null,
      "overflow": null,
      "overflow_x": null,
      "overflow_y": null,
      "padding": null,
      "right": null,
      "top": null,
      "visibility": null,
      "width": null
     }
    },
    "3acc1d17d3ba49dba0010f8dda01c04f": {
     "model_module": "@jupyter-widgets/controls",
     "model_module_version": "1.5.0",
     "model_name": "DescriptionStyleModel",
     "state": {
      "_model_module": "@jupyter-widgets/controls",
      "_model_module_version": "1.5.0",
      "_model_name": "DescriptionStyleModel",
      "_view_count": null,
      "_view_module": "@jupyter-widgets/base",
      "_view_module_version": "1.2.0",
      "_view_name": "StyleView",
      "description_width": ""
     }
    },
    "66315c0cd8024585b1d8b0ce7eacad68": {
     "model_module": "@jupyter-widgets/base",
     "model_module_version": "1.2.0",
     "model_name": "LayoutModel",
     "state": {
      "_model_module": "@jupyter-widgets/base",
      "_model_module_version": "1.2.0",
      "_model_name": "LayoutModel",
      "_view_count": null,
      "_view_module": "@jupyter-widgets/base",
      "_view_module_version": "1.2.0",
      "_view_name": "LayoutView",
      "align_content": null,
      "align_items": null,
      "align_self": null,
      "border": null,
      "bottom": null,
      "display": null,
      "flex": null,
      "flex_flow": null,
      "grid_area": null,
      "grid_auto_columns": null,
      "grid_auto_flow": null,
      "grid_auto_rows": null,
      "grid_column": null,
      "grid_gap": null,
      "grid_row": null,
      "grid_template_areas": null,
      "grid_template_columns": null,
      "grid_template_rows": null,
      "height": null,
      "justify_content": null,
      "justify_items": null,
      "left": null,
      "margin": null,
      "max_height": null,
      "max_width": null,
      "min_height": null,
      "min_width": null,
      "object_fit": null,
      "object_position": null,
      "order": null,
      "overflow": null,
      "overflow_x": null,
      "overflow_y": null,
      "padding": null,
      "right": null,
      "top": null,
      "visibility": null,
      "width": null
     }
    },
    "776ae54b137d482e80a9ac794a3d3d24": {
     "model_module": "@jupyter-widgets/controls",
     "model_module_version": "1.5.0",
     "model_name": "ProgressStyleModel",
     "state": {
      "_model_module": "@jupyter-widgets/controls",
      "_model_module_version": "1.5.0",
      "_model_name": "ProgressStyleModel",
      "_view_count": null,
      "_view_module": "@jupyter-widgets/base",
      "_view_module_version": "1.2.0",
      "_view_name": "StyleView",
      "bar_color": null,
      "description_width": ""
     }
    },
    "8fae691c525f434fbab1c3a8d5303c02": {
     "model_module": "@jupyter-widgets/controls",
     "model_module_version": "1.5.0",
     "model_name": "FloatProgressModel",
     "state": {
      "_dom_classes": [],
      "_model_module": "@jupyter-widgets/controls",
      "_model_module_version": "1.5.0",
      "_model_name": "FloatProgressModel",
      "_view_count": null,
      "_view_module": "@jupyter-widgets/controls",
      "_view_module_version": "1.5.0",
      "_view_name": "ProgressView",
      "bar_style": "success",
      "description": "",
      "description_tooltip": null,
      "layout": "IPY_MODEL_66315c0cd8024585b1d8b0ce7eacad68",
      "max": 1500,
      "min": 0,
      "orientation": "horizontal",
      "style": "IPY_MODEL_776ae54b137d482e80a9ac794a3d3d24",
      "value": 1500
     }
    },
    "996850654b3b41359bfa5129d5e73167": {
     "model_module": "@jupyter-widgets/controls",
     "model_module_version": "1.5.0",
     "model_name": "HTMLModel",
     "state": {
      "_dom_classes": [],
      "_model_module": "@jupyter-widgets/controls",
      "_model_module_version": "1.5.0",
      "_model_name": "HTMLModel",
      "_view_count": null,
      "_view_module": "@jupyter-widgets/controls",
      "_view_module_version": "1.5.0",
      "_view_name": "HTMLView",
      "description": "",
      "description_tooltip": null,
      "layout": "IPY_MODEL_2e51c1668b59493e93d0e562d4f95fa1",
      "placeholder": "​",
      "style": "IPY_MODEL_b273cd9f747144f8b6c69463a0c55427",
      "value": "100%"
     }
    },
    "af0649d4315843d899d40151cc34dd2a": {
     "model_module": "@jupyter-widgets/base",
     "model_module_version": "1.2.0",
     "model_name": "LayoutModel",
     "state": {
      "_model_module": "@jupyter-widgets/base",
      "_model_module_version": "1.2.0",
      "_model_name": "LayoutModel",
      "_view_count": null,
      "_view_module": "@jupyter-widgets/base",
      "_view_module_version": "1.2.0",
      "_view_name": "LayoutView",
      "align_content": null,
      "align_items": null,
      "align_self": null,
      "border": null,
      "bottom": null,
      "display": null,
      "flex": null,
      "flex_flow": null,
      "grid_area": null,
      "grid_auto_columns": null,
      "grid_auto_flow": null,
      "grid_auto_rows": null,
      "grid_column": null,
      "grid_gap": null,
      "grid_row": null,
      "grid_template_areas": null,
      "grid_template_columns": null,
      "grid_template_rows": null,
      "height": null,
      "justify_content": null,
      "justify_items": null,
      "left": null,
      "margin": null,
      "max_height": null,
      "max_width": null,
      "min_height": null,
      "min_width": null,
      "object_fit": null,
      "object_position": null,
      "order": null,
      "overflow": null,
      "overflow_x": null,
      "overflow_y": null,
      "padding": null,
      "right": null,
      "top": null,
      "visibility": null,
      "width": null
     }
    },
    "b273cd9f747144f8b6c69463a0c55427": {
     "model_module": "@jupyter-widgets/controls",
     "model_module_version": "1.5.0",
     "model_name": "DescriptionStyleModel",
     "state": {
      "_model_module": "@jupyter-widgets/controls",
      "_model_module_version": "1.5.0",
      "_model_name": "DescriptionStyleModel",
      "_view_count": null,
      "_view_module": "@jupyter-widgets/base",
      "_view_module_version": "1.2.0",
      "_view_name": "StyleView",
      "description_width": ""
     }
    },
    "b7f674a1e04946ae9abe2d4999b1041c": {
     "model_module": "@jupyter-widgets/base",
     "model_module_version": "1.2.0",
     "model_name": "LayoutModel",
     "state": {
      "_model_module": "@jupyter-widgets/base",
      "_model_module_version": "1.2.0",
      "_model_name": "LayoutModel",
      "_view_count": null,
      "_view_module": "@jupyter-widgets/base",
      "_view_module_version": "1.2.0",
      "_view_name": "LayoutView",
      "align_content": null,
      "align_items": null,
      "align_self": null,
      "border": null,
      "bottom": null,
      "display": null,
      "flex": null,
      "flex_flow": null,
      "grid_area": null,
      "grid_auto_columns": null,
      "grid_auto_flow": null,
      "grid_auto_rows": null,
      "grid_column": null,
      "grid_gap": null,
      "grid_row": null,
      "grid_template_areas": null,
      "grid_template_columns": null,
      "grid_template_rows": null,
      "height": null,
      "justify_content": null,
      "justify_items": null,
      "left": null,
      "margin": null,
      "max_height": null,
      "max_width": null,
      "min_height": null,
      "min_width": null,
      "object_fit": null,
      "object_position": null,
      "order": null,
      "overflow": null,
      "overflow_x": null,
      "overflow_y": null,
      "padding": null,
      "right": null,
      "top": null,
      "visibility": null,
      "width": null
     }
    },
    "d5f72f180e2547de947635611b7e9aee": {
     "model_module": "@jupyter-widgets/controls",
     "model_module_version": "1.5.0",
     "model_name": "HBoxModel",
     "state": {
      "_dom_classes": [],
      "_model_module": "@jupyter-widgets/controls",
      "_model_module_version": "1.5.0",
      "_model_name": "HBoxModel",
      "_view_count": null,
      "_view_module": "@jupyter-widgets/controls",
      "_view_module_version": "1.5.0",
      "_view_name": "HBoxView",
      "box_style": "",
      "children": [
       "IPY_MODEL_996850654b3b41359bfa5129d5e73167",
       "IPY_MODEL_8fae691c525f434fbab1c3a8d5303c02",
       "IPY_MODEL_d7e48c6e5659486a87923811e4c30e42"
      ],
      "layout": "IPY_MODEL_b7f674a1e04946ae9abe2d4999b1041c"
     }
    },
    "d7e48c6e5659486a87923811e4c30e42": {
     "model_module": "@jupyter-widgets/controls",
     "model_module_version": "1.5.0",
     "model_name": "HTMLModel",
     "state": {
      "_dom_classes": [],
      "_model_module": "@jupyter-widgets/controls",
      "_model_module_version": "1.5.0",
      "_model_name": "HTMLModel",
      "_view_count": null,
      "_view_module": "@jupyter-widgets/controls",
      "_view_module_version": "1.5.0",
      "_view_name": "HTMLView",
      "description": "",
      "description_tooltip": null,
      "layout": "IPY_MODEL_af0649d4315843d899d40151cc34dd2a",
      "placeholder": "​",
      "style": "IPY_MODEL_3acc1d17d3ba49dba0010f8dda01c04f",
      "value": " 1500/1500 [07:05&lt;00:00,  3.53it/s]"
     }
    }
   }
  }
 },
 "nbformat": 4,
 "nbformat_minor": 1
}
